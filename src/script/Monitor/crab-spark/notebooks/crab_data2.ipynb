{
 "cells": [
  {
   "cell_type": "code",
   "execution_count": 1,
   "id": "5e9af689",
   "metadata": {},
   "outputs": [],
   "source": [
    "from datetime import datetime, timedelta, timezone\n",
    "import os\n",
    "import time\n",
    "import pandas as pd\n",
    "\n",
    "from pyspark import SparkContext, StorageLevel\n",
    "from pyspark.sql import SparkSession\n",
    "from pyspark.sql.functions import (\n",
    "    current_user,\n",
    "    col, collect_list, concat_ws, greatest, lit, lower, when,\n",
    "    avg as _avg,\n",
    "    count as _count,\n",
    "    hex as _hex,\n",
    "    max as _max,\n",
    "    min as _min,\n",
    "    round as _round,\n",
    "    sum as _sum,\n",
    ")\n",
    "from pyspark.sql.types import (\n",
    "    StructType,\n",
    "    LongType,\n",
    "    StringType,\n",
    "    StructField,\n",
    "    DoubleType,\n",
    "    IntegerType,\n",
    ")"
   ]
  },
  {
   "cell_type": "code",
   "execution_count": 2,
   "id": "22946659",
   "metadata": {
    "scrolled": true
   },
   "outputs": [
    {
     "name": "stderr",
     "output_type": "stream",
     "text": [
      "24/10/01 23:08:26 WARN SparkSession: Using an existing Spark session; only runtime SQL configurations will take effect.\n"
     ]
    },
    {
     "data": {
      "text/html": [
       "\n",
       "            <div>\n",
       "                <p><b>SparkSession - in-memory</b></p>\n",
       "                \n",
       "        <div>\n",
       "            <p><b>SparkContext</b></p>\n",
       "\n",
       "            <p><a href=\"http://swan-gpu-t4-5x-jfkrw7kar3a2-node-17:30209\">Spark UI</a></p>\n",
       "\n",
       "            <dl>\n",
       "              <dt>Version</dt>\n",
       "                <dd><code>v3.5.0</code></dd>\n",
       "              <dt>Master</dt>\n",
       "                <dd><code>yarn</code></dd>\n",
       "              <dt>AppName</dt>\n",
       "                <dd><code>pyspark_shell_swan</code></dd>\n",
       "            </dl>\n",
       "        </div>\n",
       "        \n",
       "            </div>\n",
       "        "
      ],
      "text/plain": [
       "<pyspark.sql.session.SparkSession at 0x7f15794d98b0>"
      ]
     },
     "execution_count": 2,
     "metadata": {},
     "output_type": "execute_result"
    }
   ],
   "source": [
    "spark = SparkSession\\\n",
    "        .builder\\\n",
    "        .appName('crab-taskdb')\\\n",
    "        .getOrCreate()\n",
    "spark"
   ]
  },
  {
   "cell_type": "code",
   "execution_count": 31,
   "id": "e9013878",
   "metadata": {},
   "outputs": [],
   "source": [
    "spark.catalog.clearCache()"
   ]
  },
  {
   "cell_type": "code",
   "execution_count": 3,
   "id": "31c19eb0",
   "metadata": {},
   "outputs": [],
   "source": [
    "# arguments\n",
    "# secret path, also check if file exists\n",
    "secretpath = os.environ.get('OPENSEARCH_SECRET_PATH', f'{os.getcwd()}/../workdir/secret_opensearch.txt')\n",
    "if not os.path.isfile(secretpath): \n",
    "    raise Exception(f'OS secrets file {secretpath} does not exists')\n",
    "# if PROD, index prefix will be `crab-*`, otherwise `crab-test-*`\n",
    "PROD = os.environ.get('PROD', 'false').lower() in ('true', '1', 't')\n",
    "# FROM_DATE, in strptime(\"%Y-%m-%d\")\n",
    "START = os.environ.get('START_DATE', None) \n",
    "END = os.environ.get('END_DATE', None)"
   ]
  },
  {
   "cell_type": "code",
   "execution_count": 4,
   "id": "e843eb6d",
   "metadata": {},
   "outputs": [],
   "source": [
    "# try to import osearch from current directory, fallback to $PWD/../workdir if not found\n",
    "try:\n",
    "    import osearch\n",
    "except ModuleNotFoundError:\n",
    "    import sys\n",
    "    sys.path.insert(0, f'{os.getcwd()}/../workdir')\n",
    "    import osearch"
   ]
  },
  {
   "cell_type": "code",
   "execution_count": 22,
   "id": "94f0a3b1",
   "metadata": {},
   "outputs": [],
   "source": [
    "# variables for run inside notebook\n",
    "START_DATE = \"2020-01-01\"\n",
    "END_DATE = \"2024-10-31\""
   ]
  },
  {
   "cell_type": "code",
   "execution_count": 23,
   "id": "b17ed53f",
   "metadata": {},
   "outputs": [],
   "source": [
    "# const variable\n",
    "index_name = 'crab-test-taskdb' # always put test index prefix"
   ]
  },
  {
   "cell_type": "code",
   "execution_count": 24,
   "id": "430146eb",
   "metadata": {},
   "outputs": [],
   "source": [
    "# if cronjob, replace constant with value from env\n",
    "if START and END:\n",
    "    START_DATE = START\n",
    "    END_DATE = END\n",
    "# use prod index pattern if this execution is for production\n",
    "if PROD:\n",
    "    index_name = f'crab-{\"-\".join(index_name.split(\"-\")[2:])}'\n",
    "# datetime object\n",
    "start_datetime = datetime.strptime(START_DATE, \"%Y-%m-%d\").replace(tzinfo=timezone.utc)\n",
    "end_datetime = datetime.strptime(END_DATE, \"%Y-%m-%d\").replace(tzinfo=timezone.utc)\n",
    "if end_datetime < start_datetime:\n",
    "    raise Exception(f\"end date ({END_DATE}) is less than start date ({START_DATE})\")"
   ]
  },
  {
   "cell_type": "code",
   "execution_count": 32,
   "id": "9404c437",
   "metadata": {
    "scrolled": true
   },
   "outputs": [
    {
     "name": "stdout",
     "output_type": "stream",
     "text": [
      "2024-01-01\n",
      "2024-01-01 00:00:00+00:00\n",
      "2024-09-18\n",
      "2024-09-18 00:00:00+00:00\n",
      "crab-test-taskdb\n"
     ]
    }
   ],
   "source": [
    "# debug\n",
    "print(START_DATE, \n",
    "      start_datetime, \n",
    "      END_DATE, \n",
    "      end_datetime, \n",
    "      index_name, \n",
    "      sep='\\n')"
   ]
  },
  {
   "cell_type": "code",
   "execution_count": 33,
   "id": "3e85c2f0",
   "metadata": {
    "scrolled": true
   },
   "outputs": [
    {
     "name": "stdout",
     "output_type": "stream",
     "text": [
      "===============================================\n",
      "CRAB Table\n",
      "===============================================\n",
      "File Directory:\n",
      "/project/awg/cms/crab/tasks/2024-09-18/\n",
      "Work Directory:\n",
      "/eos/home-i00/t/tseethon/SWAN_projects/CRABServer/src/script/Monitor/crab-spark/notebooks\n",
      "===============================================\n",
      "===============================================\n",
      "+------------------------------------------------------------------------------------------+-------------+--------------+-------------+-----------+------------+-----------+------------------+--------------+------------------------------------------------------------------------------------------------------+\n",
      "|TM_TASKNAME                                                                               |TM_START_TIME|TM_TASK_STATUS|TM_SPLIT_ALGO|TM_USERNAME|TM_USER_ROLE|TM_JOB_TYPE|TM_IGNORE_LOCALITY|TM_SCRIPTEXE  |TM_USER_CONFIG                                                                                        |\n",
      "+------------------------------------------------------------------------------------------+-------------+--------------+-------------+-----------+------------+-----------+------------------+--------------+------------------------------------------------------------------------------------------------------+\n",
      "|240103_102550:cdifraia_crab_DataMuA_2018                                                  |1704273950144|SUBMITTED     |LumiBased    |cdifraia   |NULL        |Analysis   |F                 |crab_script.sh|{\"partialdataset\": false, \"requireaccelerator\": false, \"acceleratorparams\": null, \"inputblocks\": null}|\n",
      "|240103_130243:mhuwiler_crab_ParkingBPH2_Run2018B-UL2018_MiniAODv2-v1_ParkingBPHULB_denomv7|1704283363607|SUBMITTED     |LumiBased    |mhuwiler   |NULL        |Analysis   |F                 |NULL          |{\"partialdataset\": false, \"requireaccelerator\": false, \"acceleratorparams\": null, \"inputblocks\": null}|\n",
      "|240104_171945:anstahll_crab_SKIM_TR_AOD_PPRECO_HIForward3_HIRun2023A_2023_12_21           |1704385185624|KILLED        |LumiBased    |anstahll   |NULL        |Analysis   |T                 |NULL          |{\"partialdataset\": false, \"requireaccelerator\": false, \"acceleratorparams\": null, \"inputblocks\": null}|\n",
      "|240104_085612:mwulansa_crab_Ntuple_QCD_HT-50to100_Summer20UL17_v2024                      |1704354972254|KILLED        |Automatic    |mwulansa   |NULL        |Analysis   |F                 |NULL          |{\"partialdataset\": false, \"requireaccelerator\": false, \"acceleratorparams\": null, \"inputblocks\": null}|\n",
      "|240104_085635:mwulansa_crab_Ntuple_QCD_HT-700to1000_Summer20UL17_v2024                    |1704354995237|KILLED        |Automatic    |mwulansa   |NULL        |Analysis   |F                 |NULL          |{\"partialdataset\": false, \"requireaccelerator\": false, \"acceleratorparams\": null, \"inputblocks\": null}|\n",
      "|240105_144514:sciaba_crab_HC-231-T2_CH_CSCS-106053-20240105154501                         |1704462314883|SUBMITTED     |LumiBased    |sciaba     |production  |Analysis   |T                 |NULL          |{\"partialdataset\": false, \"requireaccelerator\": false, \"acceleratorparams\": null, \"inputblocks\": null}|\n",
      "|240101_075041:sciaba_crab_HC-209-T2_KR_KISTI-105996-20240101084901                        |1704091841225|SUBMITTED     |LumiBased    |sciaba     |production  |Analysis   |T                 |NULL          |{\"partialdataset\": false, \"requireaccelerator\": false, \"acceleratorparams\": null, \"inputblocks\": null}|\n",
      "|240102_204120:sciaba_crab_HC-206-T2_UK_London_Brunel-106016-20240102214101                |1704224480795|SUBMITTED     |LumiBased    |sciaba     |production  |Analysis   |T                 |NULL          |{\"partialdataset\": false, \"requireaccelerator\": false, \"acceleratorparams\": null, \"inputblocks\": null}|\n",
      "|240104_172006:anstahll_crab_SKIM_TR_AOD_PPRECO_HIForward8_HIRun2023A_2023_12_21           |1704385206774|KILLED        |LumiBased    |anstahll   |NULL        |Analysis   |F                 |NULL          |{\"partialdataset\": false, \"requireaccelerator\": false, \"acceleratorparams\": null, \"inputblocks\": null}|\n",
      "|240104_173659:cmantill_crab_pfnano_v2_3_2018_DYJetsToLL_LHEFilterPtZ-250To400             |1704386219730|SUBMITTED     |Automatic    |cmantill   |NULL        |Analysis   |F                 |NULL          |{\"partialdataset\": false, \"requireaccelerator\": false, \"acceleratorparams\": null, \"inputblocks\": null}|\n",
      "+------------------------------------------------------------------------------------------+-------------+--------------+-------------+-----------+------------+-----------+------------------+--------------+------------------------------------------------------------------------------------------------------+\n",
      "only showing top 10 rows\n",
      "\n"
     ]
    }
   ],
   "source": [
    "HDFS_CRAB_part = f'/project/awg/cms/crab/tasks/{END_DATE}/' # data each day in hdfs contain whole table\n",
    "print(\"===============================================\"\n",
    "      , \"CRAB Table\"\n",
    "      , \"===============================================\"\n",
    "      , \"File Directory:\", HDFS_CRAB_part\n",
    "      , \"Work Directory:\", os.getcwd()\n",
    "      , \"===============================================\"\n",
    "      , \"===============================================\", sep='\\n')\n",
    "\n",
    "tasks_df = spark.read.format('avro').load(HDFS_CRAB_part).cache()\n",
    "tasks_df = ( \n",
    "    crab_part.select(\"TM_TASKNAME\",\"TM_START_TIME\",\"TM_TASK_STATUS\",\"TM_SPLIT_ALGO\",\"TM_USERNAME\",\"TM_USER_ROLE\",\"TM_JOB_TYPE\",\"TM_IGNORE_LOCALITY\",\"TM_SCRIPTEXE\",\"TM_USER_CONFIG\")\n",
    "             .filter(f\"\"\"\\\n",
    "                  1=1\n",
    "                  AND TM_START_TIME >= {int(start_datetime.timestamp()) * 1000}\n",
    "                  AND TM_START_TIME < {int(end_datetime.timestamp()) * 1000}\n",
    "              \"\"\")\n",
    "             .cache()\n",
    ")\n",
    "tasks_df.createOrReplaceTempView(\"tasks\")"
   ]
  },
  {
   "cell_type": "code",
   "execution_count": 34,
   "id": "e271b1c8",
   "metadata": {
    "scrolled": false
   },
   "outputs": [
    {
     "name": "stdout",
     "output_type": "stream",
     "text": [
      "+--------------------+-------------+--------------+-------------+-----------+------------+-----------+------------------+--------------+-------------------+-------------+------+\n",
      "|         TM_TASKNAME|TM_START_TIME|TM_TASK_STATUS|TM_SPLIT_ALGO|TM_USERNAME|TM_USER_ROLE|TM_JOB_TYPE|TM_IGNORE_LOCALITY|  TM_SCRIPTEXE|REQUIRE_ACCELERATOR|    timestamp|  type|\n",
      "+--------------------+-------------+--------------+-------------+-----------+------------+-----------+------------------+--------------+-------------------+-------------+------+\n",
      "|240103_102550:cdi...|1704273950144|     SUBMITTED|    LumiBased|   cdifraia|        NULL|   Analysis|                 F|crab_script.sh|              false|1704273950144|taskdb|\n",
      "|240103_130243:mhu...|1704283363607|     SUBMITTED|    LumiBased|   mhuwiler|        NULL|   Analysis|                 F|          NULL|              false|1704283363607|taskdb|\n",
      "|240104_171945:ans...|1704385185624|        KILLED|    LumiBased|   anstahll|        NULL|   Analysis|                 T|          NULL|              false|1704385185624|taskdb|\n",
      "|240104_085612:mwu...|1704354972254|        KILLED|    Automatic|   mwulansa|        NULL|   Analysis|                 F|          NULL|              false|1704354972254|taskdb|\n",
      "|240104_085635:mwu...|1704354995237|        KILLED|    Automatic|   mwulansa|        NULL|   Analysis|                 F|          NULL|              false|1704354995237|taskdb|\n",
      "|240105_144514:sci...|1704462314883|     SUBMITTED|    LumiBased|     sciaba|  production|   Analysis|                 T|          NULL|              false|1704462314883|taskdb|\n",
      "|240101_075041:sci...|1704091841225|     SUBMITTED|    LumiBased|     sciaba|  production|   Analysis|                 T|          NULL|              false|1704091841225|taskdb|\n",
      "|240102_204120:sci...|1704224480795|     SUBMITTED|    LumiBased|     sciaba|  production|   Analysis|                 T|          NULL|              false|1704224480795|taskdb|\n",
      "|240104_172006:ans...|1704385206774|        KILLED|    LumiBased|   anstahll|        NULL|   Analysis|                 F|          NULL|              false|1704385206774|taskdb|\n",
      "|240104_173659:cma...|1704386219730|     SUBMITTED|    Automatic|   cmantill|        NULL|   Analysis|                 F|          NULL|              false|1704386219730|taskdb|\n",
      "+--------------------+-------------+--------------+-------------+-----------+------------+-----------+------------------+--------------+-------------------+-------------+------+\n",
      "only showing top 10 rows\n",
      "\n"
     ]
    }
   ],
   "source": [
    "query = f\"\"\"\\\n",
    "WITH reqacc_tb AS (         \n",
    "SELECT TM_TASKNAME, TM_START_TIME, TM_TASK_STATUS, TM_SPLIT_ALGO, TM_USERNAME, TM_USER_ROLE, TM_JOB_TYPE, TM_IGNORE_LOCALITY, TM_SCRIPTEXE,\n",
    "       coalesce(get_json_object(TM_USER_CONFIG, '$.requireaccelerator'), 'false') AS REQUIRE_ACCELERATOR\n",
    "FROM tasks\n",
    "),\n",
    "finalize_tb AS (\n",
    "SELECT TM_TASKNAME, TM_START_TIME, TM_TASK_STATUS, TM_SPLIT_ALGO, TM_USERNAME, TM_USER_ROLE, TM_JOB_TYPE, TM_IGNORE_LOCALITY, TM_SCRIPTEXE, REQUIRE_ACCELERATOR,\n",
    "       TM_START_TIME AS timestamp,\n",
    "       'taskdb' AS type\n",
    "FROM reqacc_tb\n",
    ")\n",
    "SELECT * FROM finalize_tb\n",
    "\"\"\"\n",
    "\n",
    "tmpdf = spark.sql(query)\n",
    "tmpdf.show(10)\n",
    "\n"
   ]
  },
  {
   "cell_type": "code",
   "execution_count": 35,
   "id": "c33dfce3",
   "metadata": {},
   "outputs": [],
   "source": [
    "docs = tmpdf.toPandas().to_dict('records')"
   ]
  },
  {
   "cell_type": "code",
   "execution_count": 36,
   "id": "eee4a1f3",
   "metadata": {},
   "outputs": [],
   "source": [
    "schema = {\n",
    "            \"settings\": {\"index\": {\"number_of_shards\": \"1\", \"number_of_replicas\": \"1\"}},\n",
    "            \"mappings\": {\n",
    "                \"properties\": {\n",
    "                    \"TM_TASKNAME\": {\"ignore_above\": 2048, \"type\": \"keyword\"},\n",
    "                    \"TM_START_TIME\": {\"format\": \"epoch_millis\", \"type\": \"date\"},\n",
    "                    'TM_TASK_STATUS': {\"ignore_above\": 2048, \"type\": \"keyword\"},\n",
    "                    \"TM_SPLIT_ALGO\": {\"ignore_above\": 2048, \"type\": \"keyword\"},\n",
    "                    \"TM_USERNAME\": {\"ignore_above\": 2048, \"type\": \"keyword\"},\n",
    "                    \"TM_USER_ROLE\": {\"ignore_above\": 2048, \"type\": \"keyword\"},\n",
    "                    \"TM_JOB_TYPE\": {\"ignore_above\": 2048, \"type\": \"keyword\"},\n",
    "                    \"TM_IGNORE_LOCALITY\": {\"ignore_above\": 2048, \"type\": \"keyword\"},\n",
    "                    \"TM_SCRIPTEXE\": {\"ignore_above\": 2048, \"type\": \"keyword\"},\n",
    "                    \"REQUIRE_ACCELERATOR\": {\"ignore_above\": 2048, \"type\": \"keyword\"},\n",
    "                    \"type\": {\"ignore_above\": 2048, \"type\": \"keyword\"},\n",
    "                    \"timestamp\": {\"format\": \"epoch_millis\", \"type\": \"date\"},\n",
    "                }\n",
    "            }\n",
    "        }"
   ]
  },
  {
   "cell_type": "code",
   "execution_count": 40,
   "id": "9ec824ee",
   "metadata": {},
   "outputs": [
    {
     "name": "stdout",
     "output_type": "stream",
     "text": [
      "1726531200\n"
     ]
    }
   ],
   "source": [
    "import importlib\n",
    "importlib.reload(osearch)\n",
    "timestamp_str = int((end_datetime-timedelta(days=1)).timestamp()) # to convert to 'crab-test-taskdb-2024-09' in osearch lib, unit is seconds\n",
    "print(timestamp_str)"
   ]
  },
  {
   "cell_type": "code",
   "execution_count": null,
   "id": "64bcf06e",
   "metadata": {},
   "outputs": [],
   "source": [
    "osearch.send_os(docs, index_name, schema, secretpath, timestamp_str)"
   ]
  }
 ],
 "metadata": {
  "@webio": {
   "lastCommId": null,
   "lastKernelId": null
  },
  "kernelspec": {
   "display_name": "Python 3",
   "language": "python",
   "name": "python3"
  },
  "language_info": {
   "codemirror_mode": {
    "name": "ipython",
    "version": 3
   },
   "file_extension": ".py",
   "mimetype": "text/x-python",
   "name": "python",
   "nbconvert_exporter": "python",
   "pygments_lexer": "ipython3",
   "version": "3.9.12"
  },
  "sparkconnect": {
   "bundled_options": [],
   "list_of_options": [
    {
     "name": "spark.jars.packages",
     "value": "org.apache.spark:spark-avro_2.12:3.5.0"
    }
   ]
  }
 },
 "nbformat": 4,
 "nbformat_minor": 5
}
